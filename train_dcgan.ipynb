{
 "cells": [
  {
   "cell_type": "code",
   "execution_count": null,
   "metadata": {
    "collapsed": true,
    "ExecuteTime": {
     "start_time": "2024-05-04T15:51:02.339220Z",
     "end_time": "2024-05-04T15:51:02.351254Z"
    }
   },
   "outputs": [],
   "source": [
    "import torch\n",
    "import torch.nn as nn\n",
    "import torch.optim as optim\n",
    "from torch.utils.data import DataLoader\n",
    "from torch.utils.tensorboard import SummaryWriter\n",
    "\n",
    "import numpy as np\n",
    "import matplotlib.pyplot as plt\n",
    "\n",
    "import torchvision\n",
    "import torchvision.datasets as datasets\n",
    "import torchvision.transforms as transforms\n",
    "import torchvision.utils as vutils\n",
    "from torchvision.utils import save_image\n",
    "\n",
    "from DCGAN import Discriminator, Generator, initialize_weights"
   ]
  },
  {
   "cell_type": "code",
   "execution_count": null,
   "outputs": [],
   "source": [
    "workers = 2\n",
    "batch_size = 128\n",
    "image_size = 64\n",
    "image_channels = 3\n",
    "nz = 100 # Size of z latent vector (i.e. size of generator input)\n",
    "ngf = 64 # Size of feature maps in generator\n",
    "ndf = 64 # Size of feature maps in discriminator\n",
    "\n",
    "num_epochs = 15\n",
    "learning_rate = 0.0002\n",
    "beta1 = 0.5 # Beta1 hyperparameter for Adam optimizers"
   ],
   "metadata": {
    "collapsed": false,
    "ExecuteTime": {
     "start_time": "2024-05-04T02:52:35.724074Z",
     "end_time": "2024-05-04T02:52:35.733110Z"
    }
   }
  },
  {
   "cell_type": "code",
   "execution_count": null,
   "outputs": [],
   "source": [
    "dataset = datasets.ImageFolder(\n",
    "    root='celeb',\n",
    "    transform=transforms.Compose([\n",
    "        transforms.Resize(image_size),\n",
    "        transforms.CenterCrop(image_size),\n",
    "        transforms.ToTensor(),\n",
    "        transforms.Normalize((0.5, 0.5, 0.5), (0.5, 0.5, 0.5)),\n",
    "    ])\n",
    ")\n",
    "# Create the dataloader\n",
    "dataloader = torch.utils.data.DataLoader(\n",
    "    dataset, batch_size=batch_size, shuffle=True, num_workers=workers\n",
    ")\n",
    "\n",
    "device = 'cuda' if torch.cuda.is_available() else 'cpu'\n",
    "\n",
    "real_batch = next(iter(dataloader))\n",
    "plt.figure(figsize=(8,8))\n",
    "plt.axis(\"off\")\n",
    "plt.title(\"Training Images\")\n",
    "plt.imshow(np.transpose(vutils.make_grid(real_batch[0].to(device)[:16], padding=2, normalize=True).cpu(), (1, 2, 0)))\n",
    "plt.show()"
   ],
   "metadata": {
    "collapsed": false,
    "ExecuteTime": {
     "start_time": "2024-05-04T02:52:36.466077Z",
     "end_time": "2024-05-04T02:52:56.288021Z"
    }
   }
  },
  {
   "cell_type": "code",
   "execution_count": null,
   "outputs": [],
   "source": [
    "# Tensorboard\n",
    "fake_writer = SummaryWriter(f'logs/fake')\n",
    "real_writer = SummaryWriter(f'logs/real')\n",
    "step = 0\n",
    "\n",
    "# Loss\n",
    "criterion = nn.BCELoss()\n",
    "\n",
    "# Noise\n",
    "fixed_noise = torch.randn(64, nz, 1, 1, device=device)\n",
    "print(f'Noise tensor: {fixed_noise.shape}')\n",
    "\n",
    "real_label = 1.\n",
    "fake_label = 0."
   ],
   "metadata": {
    "collapsed": false,
    "ExecuteTime": {
     "start_time": "2024-05-04T02:52:59.063972Z",
     "end_time": "2024-05-04T02:52:59.189285Z"
    }
   }
  },
  {
   "cell_type": "markdown",
   "source": [
    "# Training model"
   ],
   "metadata": {
    "collapsed": false
   }
  },
  {
   "cell_type": "code",
   "execution_count": null,
   "outputs": [],
   "source": [
    "netD = Discriminator(image_channels, ndf).to(device)\n",
    "netG = Generator(nz, image_channels, ngf).to(device)\n",
    "netD.apply(initialize_weights)\n",
    "netG.apply(initialize_weights)\n",
    "\n",
    "optimizerD = optim.Adam(netD.parameters(), lr=learning_rate, betas=(beta1, 0.999))\n",
    "optimizerG = optim.Adam(netG.parameters(), lr=learning_rate, betas=(beta1, 0.999))"
   ],
   "metadata": {
    "collapsed": false,
    "ExecuteTime": {
     "start_time": "2024-05-04T02:53:18.454200Z",
     "end_time": "2024-05-04T02:53:18.612160Z"
    }
   }
  },
  {
   "cell_type": "markdown",
   "source": [
    "## Using pretrained weights"
   ],
   "metadata": {
    "collapsed": false
   }
  },
  {
   "cell_type": "code",
   "execution_count": null,
   "outputs": [],
   "source": [
    "netG = Generator(nz, image_channels, ngf).to(device)\n",
    "netG.load_state_dict(torch.load('./weights/generator.pt')['state_dict'])\n",
    "optimizerG.load_state_dict(torch.load('./weights/generator.pt')['optimizer'])\n",
    "netG.eval()\n",
    "\n",
    "netD = Discriminator(image_channels, ndf).to(device)\n",
    "netD.load_state_dict(torch.load('./weights/discriminator.pt')['state_dict'])\n",
    "optimizerD.load_state_dict(torch.load('./weights/discriminator.pt')['optimizer'])\n",
    "netD.eval()"
   ],
   "metadata": {
    "collapsed": false,
    "ExecuteTime": {
     "start_time": "2024-05-04T02:53:21.599062Z",
     "end_time": "2024-05-04T02:53:22.686227Z"
    }
   }
  },
  {
   "cell_type": "markdown",
   "source": [
    "## Training"
   ],
   "metadata": {
    "collapsed": false
   }
  },
  {
   "cell_type": "code",
   "execution_count": null,
   "outputs": [],
   "source": [
    "for epoch in range(num_epochs):\n",
    "    for i, data in enumerate(dataloader, 0):\n",
    "\n",
    "        # (1) Update D network: maximize log(D(x)) + log(1 - D(G(z)))\n",
    "        netD.zero_grad()\n",
    "        real_cpu = data[0].to(device)\n",
    "        b_size = real_cpu.size(0)\n",
    "\n",
    "        label = torch.full((b_size,), real_label, dtype=torch.float, device=device)\n",
    "        output = netD(real_cpu).view(-1)\n",
    "        errD_real = criterion(output, label)\n",
    "        errD_real.backward()\n",
    "        D_x = output.mean().item()\n",
    "\n",
    "        noise = torch.randn(b_size, nz, 1, 1, device=device)\n",
    "        fake = netG(noise)\n",
    "        label.fill_(fake_label)\n",
    "        output = netD(fake.detach()).view(-1)\n",
    "        errD_fake = criterion(output, label)\n",
    "        errD_fake.backward()\n",
    "        D_G_z1 = output.mean().item()\n",
    "        errD = errD_real + errD_fake\n",
    "        optimizerD.step()\n",
    "\n",
    "        # (2) Update G network: maximize log(D(G(z)))\n",
    "        netG.zero_grad()\n",
    "        label.fill_(real_label)\n",
    "        output = netD(fake).view(-1)\n",
    "        errG = criterion(output, label)\n",
    "        errG.backward()\n",
    "        D_G_z2 = output.mean().item()\n",
    "        optimizerG.step()\n",
    "\n",
    "        # Output training stats\n",
    "        if i % 50 == 0:\n",
    "            print(\n",
    "                f'Epoch: {epoch}/{num_epochs} Batch {i}/{len(dataloader)}\\n'\n",
    "                f'Generator loss: {errG:.4f} '\n",
    "                f'Discriminator loss: {errD:.4f}'\n",
    "            )\n",
    "\n",
    "            with torch.no_grad():\n",
    "                fake = netG(fixed_noise).detach().cpu()\n",
    "                img_grid_real = torchvision.utils.make_grid(real_cpu[:16], normalize=True)\n",
    "                img_grid_fake = torchvision.utils.make_grid(fake[:16], normalize=True)\n",
    "                real_writer.add_image(\"real\", img_grid_real, global_step=step)\n",
    "                fake_writer.add_image(\"fake\", img_grid_fake, global_step=step)\n",
    "\n",
    "        step += 1"
   ],
   "metadata": {
    "collapsed": false
   }
  },
  {
   "cell_type": "markdown",
   "source": [
    "## Saving model weights"
   ],
   "metadata": {
    "collapsed": false
   }
  },
  {
   "cell_type": "code",
   "execution_count": null,
   "outputs": [],
   "source": [
    "stateG = {\n",
    "    'state_dict': netG.state_dict(),\n",
    "    'optimizer': optimizerG.state_dict()\n",
    "}\n",
    "\n",
    "stateD = {\n",
    "    'state_dict': netD.state_dict(),\n",
    "    'optimizer': optimizerD.state_dict(),\n",
    "}\n",
    "\n",
    "torch.save(stateG, './weights/generator.pt')\n",
    "torch.save(stateD, './weights/discriminator.pt')"
   ],
   "metadata": {
    "collapsed": false,
    "ExecuteTime": {
     "start_time": "2024-04-13T19:50:15.287212Z",
     "end_time": "2024-04-13T19:50:15.418812Z"
    }
   }
  },
  {
   "cell_type": "markdown",
   "source": [
    "## Saving model"
   ],
   "metadata": {
    "collapsed": false
   }
  },
  {
   "cell_type": "code",
   "execution_count": null,
   "outputs": [],
   "source": [
    "torch.save(netG, 'model.pt')"
   ],
   "metadata": {
    "collapsed": false,
    "ExecuteTime": {
     "start_time": "2024-04-14T02:25:07.545342Z",
     "end_time": "2024-04-14T02:25:07.569715Z"
    }
   }
  },
  {
   "cell_type": "markdown",
   "source": [
    "# Using model"
   ],
   "metadata": {
    "collapsed": false
   }
  },
  {
   "cell_type": "code",
   "execution_count": null,
   "outputs": [],
   "source": [
    "model = torch.load('./models/5pfivw9.pt')"
   ],
   "metadata": {
    "collapsed": false,
    "ExecuteTime": {
     "start_time": "2024-05-04T15:51:28.893595Z",
     "end_time": "2024-05-04T15:51:28.976583Z"
    }
   }
  },
  {
   "cell_type": "code",
   "execution_count": null,
   "outputs": [],
   "source": [
    "noise = torch.randn(2, nz, 1, 1, device=device)\n",
    "image = model(noise)\n",
    "plt.title(\"Final image\")\n",
    "plt.imshow(np.transpose(vutils.make_grid(image.to(device), normalize=True).cpu(), (1, 2, 0)))\n",
    "plt.show()"
   ],
   "metadata": {
    "collapsed": false,
    "ExecuteTime": {
     "start_time": "2024-05-04T15:53:22.117810Z",
     "end_time": "2024-05-04T15:53:22.271480Z"
    }
   }
  },
  {
   "cell_type": "code",
   "execution_count": null,
   "outputs": [],
   "source": [
    "save_image(image[0], 'img2.png')"
   ],
   "metadata": {
    "collapsed": false,
    "ExecuteTime": {
     "start_time": "2024-04-14T02:55:39.134966Z",
     "end_time": "2024-04-14T02:55:39.153497Z"
    }
   }
  }
 ],
 "metadata": {
  "kernelspec": {
   "display_name": "Python 3",
   "language": "python",
   "name": "python3"
  },
  "language_info": {
   "codemirror_mode": {
    "name": "ipython",
    "version": 2
   },
   "file_extension": ".py",
   "mimetype": "text/x-python",
   "name": "python",
   "nbconvert_exporter": "python",
   "pygments_lexer": "ipython2",
   "version": "2.7.6"
  }
 },
 "nbformat": 4,
 "nbformat_minor": 0
}
